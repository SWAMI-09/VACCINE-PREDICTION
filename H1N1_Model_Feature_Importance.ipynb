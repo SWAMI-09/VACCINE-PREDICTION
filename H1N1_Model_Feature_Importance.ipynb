{
 "cells": [
  {
   "cell_type": "code",
   "execution_count": 99,
   "metadata": {
    "ExecuteTime": {
     "end_time": "2021-07-27T04:46:53.198331Z",
     "start_time": "2021-07-27T04:46:53.118356Z"
    }
   },
   "outputs": [],
   "source": [
    "#!/usr/bin/env python3\n",
    "#### Import all the required libraries\n",
    "import pandas as pd #### Library for working with large datsets\n",
    "import numpy as np #### Library for performing numerical calculations\n",
    "import matplotlib.pyplot as plt #### Basic Library for plotting graphs\n",
    "#### Configuring Matplotlib to show Plots inline\n",
    "%matplotlib inline \n",
    "plt.rcParams['figure.figsize'] = (12, 12) ### Setting the size of the Plots"
   ]
  },
  {
   "cell_type": "code",
   "execution_count": 100,
   "metadata": {
    "ExecuteTime": {
     "end_time": "2021-07-27T04:46:53.354458Z",
     "start_time": "2021-07-27T04:46:53.201830Z"
    }
   },
   "outputs": [],
   "source": [
    "data = pd.read_csv('h1n1_vaccine_prediction.csv')"
   ]
  },
  {
   "cell_type": "code",
   "execution_count": 101,
   "metadata": {
    "ExecuteTime": {
     "end_time": "2021-07-27T04:46:53.402272Z",
     "start_time": "2021-07-27T04:46:53.357994Z"
    }
   },
   "outputs": [
    {
     "name": "stdout",
     "output_type": "stream",
     "text": [
      "<class 'pandas.core.frame.DataFrame'>\n",
      "RangeIndex: 26707 entries, 0 to 26706\n",
      "Data columns (total 34 columns):\n",
      " #   Column                     Non-Null Count  Dtype  \n",
      "---  ------                     --------------  -----  \n",
      " 0   unique_id                  26707 non-null  int64  \n",
      " 1   h1n1_worry                 26615 non-null  float64\n",
      " 2   h1n1_awareness             26591 non-null  float64\n",
      " 3   antiviral_medication       26636 non-null  float64\n",
      " 4   contact_avoidance          26499 non-null  float64\n",
      " 5   bought_face_mask           26688 non-null  float64\n",
      " 6   wash_hands_frequently      26665 non-null  float64\n",
      " 7   avoid_large_gatherings     26620 non-null  float64\n",
      " 8   reduced_outside_home_cont  26625 non-null  float64\n",
      " 9   avoid_touch_face           26579 non-null  float64\n",
      " 10  dr_recc_h1n1_vacc          24547 non-null  float64\n",
      " 11  dr_recc_seasonal_vacc      24547 non-null  float64\n",
      " 12  chronic_medic_condition    25736 non-null  float64\n",
      " 13  cont_child_undr_6_mnths    25887 non-null  float64\n",
      " 14  is_health_worker           25903 non-null  float64\n",
      " 15  has_health_insur           14433 non-null  float64\n",
      " 16  is_h1n1_vacc_effective     26316 non-null  float64\n",
      " 17  is_h1n1_risky              26319 non-null  float64\n",
      " 18  sick_from_h1n1_vacc        26312 non-null  float64\n",
      " 19  is_seas_vacc_effective     26245 non-null  float64\n",
      " 20  is_seas_risky              26193 non-null  float64\n",
      " 21  sick_from_seas_vacc        26170 non-null  float64\n",
      " 22  age_bracket                26707 non-null  object \n",
      " 23  qualification              25300 non-null  object \n",
      " 24  race                       26707 non-null  object \n",
      " 25  sex                        26707 non-null  object \n",
      " 26  income_level               22284 non-null  object \n",
      " 27  marital_status             25299 non-null  object \n",
      " 28  housing_status             24665 non-null  object \n",
      " 29  employment                 25244 non-null  object \n",
      " 30  census_msa                 26707 non-null  object \n",
      " 31  no_of_adults               26458 non-null  float64\n",
      " 32  no_of_children             26458 non-null  float64\n",
      " 33  h1n1_vaccine               26707 non-null  int64  \n",
      "dtypes: float64(23), int64(2), object(9)\n",
      "memory usage: 6.9+ MB\n"
     ]
    }
   ],
   "source": [
    "data.info()"
   ]
  },
  {
   "cell_type": "code",
   "execution_count": 102,
   "metadata": {
    "ExecuteTime": {
     "end_time": "2021-07-27T04:46:53.431714Z",
     "start_time": "2021-07-27T04:46:53.411305Z"
    }
   },
   "outputs": [],
   "source": [
    "data = data[['unique_id',\n",
    "'h1n1_worry',\n",
    "'h1n1_awareness',\n",
    "'antiviral_medication',\n",
    "'contact_avoidance',\n",
    "'bought_face_mask',\n",
    "'wash_hands_frequently',\n",
    "'avoid_large_gatherings',\n",
    "'reduced_outside_home_cont',\n",
    "'avoid_touch_face',\n",
    "'is_h1n1_vacc_effective',\n",
    "'is_h1n1_risky',\n",
    "'sick_from_h1n1_vacc',\n",
    "'is_seas_vacc_effective',\n",
    "'is_seas_risky',\n",
    "'sick_from_seas_vacc',\n",
    "'age_bracket',\n",
    "'race',\n",
    "'sex',\n",
    "'census_msa',\n",
    "'no_of_adults',\n",
    "'no_of_children',\n",
    "'h1n1_vaccine']]\n"
   ]
  },
  {
   "cell_type": "code",
   "execution_count": 103,
   "metadata": {
    "ExecuteTime": {
     "end_time": "2021-07-27T04:46:53.477850Z",
     "start_time": "2021-07-27T04:46:53.434352Z"
    }
   },
   "outputs": [],
   "source": [
    "#### Lets ensure our data doesnt contain any Null Values\n",
    "nans = lambda data: data[data.isnull().any(axis=1)]\n",
    "tmp = nans(data)\n",
    "data = data.drop(tmp.index,0)\n"
   ]
  },
  {
   "cell_type": "code",
   "execution_count": 104,
   "metadata": {
    "ExecuteTime": {
     "end_time": "2021-07-27T04:46:53.525789Z",
     "start_time": "2021-07-27T04:46:53.479118Z"
    }
   },
   "outputs": [
    {
     "name": "stdout",
     "output_type": "stream",
     "text": [
      "<class 'pandas.core.frame.DataFrame'>\n",
      "Int64Index: 25238 entries, 0 to 26706\n",
      "Data columns (total 23 columns):\n",
      " #   Column                     Non-Null Count  Dtype  \n",
      "---  ------                     --------------  -----  \n",
      " 0   unique_id                  25238 non-null  int64  \n",
      " 1   h1n1_worry                 25238 non-null  float64\n",
      " 2   h1n1_awareness             25238 non-null  float64\n",
      " 3   antiviral_medication       25238 non-null  float64\n",
      " 4   contact_avoidance          25238 non-null  float64\n",
      " 5   bought_face_mask           25238 non-null  float64\n",
      " 6   wash_hands_frequently      25238 non-null  float64\n",
      " 7   avoid_large_gatherings     25238 non-null  float64\n",
      " 8   reduced_outside_home_cont  25238 non-null  float64\n",
      " 9   avoid_touch_face           25238 non-null  float64\n",
      " 10  is_h1n1_vacc_effective     25238 non-null  float64\n",
      " 11  is_h1n1_risky              25238 non-null  float64\n",
      " 12  sick_from_h1n1_vacc        25238 non-null  float64\n",
      " 13  is_seas_vacc_effective     25238 non-null  float64\n",
      " 14  is_seas_risky              25238 non-null  float64\n",
      " 15  sick_from_seas_vacc        25238 non-null  float64\n",
      " 16  age_bracket                25238 non-null  object \n",
      " 17  race                       25238 non-null  object \n",
      " 18  sex                        25238 non-null  object \n",
      " 19  census_msa                 25238 non-null  object \n",
      " 20  no_of_adults               25238 non-null  float64\n",
      " 21  no_of_children             25238 non-null  float64\n",
      " 22  h1n1_vaccine               25238 non-null  int64  \n",
      "dtypes: float64(17), int64(2), object(4)\n",
      "memory usage: 4.6+ MB\n"
     ]
    }
   ],
   "source": [
    "data.info()"
   ]
  },
  {
   "cell_type": "code",
   "execution_count": 105,
   "metadata": {
    "ExecuteTime": {
     "end_time": "2021-07-27T04:46:53.542455Z",
     "start_time": "2021-07-27T04:46:53.529546Z"
    }
   },
   "outputs": [
    {
     "data": {
      "text/plain": [
       "array(['Non-MSA', 'MSA, Not Principle  City', 'MSA, Principle City'],\n",
       "      dtype=object)"
      ]
     },
     "execution_count": 105,
     "metadata": {},
     "output_type": "execute_result"
    }
   ],
   "source": [
    "data.census_msa.unique()"
   ]
  },
  {
   "cell_type": "code",
   "execution_count": 106,
   "metadata": {
    "ExecuteTime": {
     "end_time": "2021-07-27T04:46:53.665069Z",
     "start_time": "2021-07-27T04:46:53.546078Z"
    }
   },
   "outputs": [
    {
     "data": {
      "text/html": [
       "<div>\n",
       "<style scoped>\n",
       "    .dataframe tbody tr th:only-of-type {\n",
       "        vertical-align: middle;\n",
       "    }\n",
       "\n",
       "    .dataframe tbody tr th {\n",
       "        vertical-align: top;\n",
       "    }\n",
       "\n",
       "    .dataframe thead th {\n",
       "        text-align: right;\n",
       "    }\n",
       "</style>\n",
       "<table border=\"1\" class=\"dataframe\">\n",
       "  <thead>\n",
       "    <tr style=\"text-align: right;\">\n",
       "      <th></th>\n",
       "      <th>unique_id</th>\n",
       "      <th>h1n1_worry</th>\n",
       "      <th>h1n1_awareness</th>\n",
       "      <th>antiviral_medication</th>\n",
       "      <th>contact_avoidance</th>\n",
       "      <th>bought_face_mask</th>\n",
       "      <th>wash_hands_frequently</th>\n",
       "      <th>avoid_large_gatherings</th>\n",
       "      <th>reduced_outside_home_cont</th>\n",
       "      <th>avoid_touch_face</th>\n",
       "      <th>...</th>\n",
       "      <th>is_seas_vacc_effective</th>\n",
       "      <th>is_seas_risky</th>\n",
       "      <th>sick_from_seas_vacc</th>\n",
       "      <th>age_bracket</th>\n",
       "      <th>race</th>\n",
       "      <th>sex</th>\n",
       "      <th>census_msa</th>\n",
       "      <th>no_of_adults</th>\n",
       "      <th>no_of_children</th>\n",
       "      <th>h1n1_vaccine</th>\n",
       "    </tr>\n",
       "  </thead>\n",
       "  <tbody>\n",
       "    <tr>\n",
       "      <th>0</th>\n",
       "      <td>0</td>\n",
       "      <td>1.0</td>\n",
       "      <td>0.0</td>\n",
       "      <td>0.0</td>\n",
       "      <td>0.0</td>\n",
       "      <td>0.0</td>\n",
       "      <td>0.0</td>\n",
       "      <td>0.0</td>\n",
       "      <td>1.0</td>\n",
       "      <td>1.0</td>\n",
       "      <td>...</td>\n",
       "      <td>2.0</td>\n",
       "      <td>1.0</td>\n",
       "      <td>2.0</td>\n",
       "      <td>4</td>\n",
       "      <td>1</td>\n",
       "      <td>0</td>\n",
       "      <td>1</td>\n",
       "      <td>0.0</td>\n",
       "      <td>0.0</td>\n",
       "      <td>0</td>\n",
       "    </tr>\n",
       "    <tr>\n",
       "      <th>1</th>\n",
       "      <td>1</td>\n",
       "      <td>3.0</td>\n",
       "      <td>2.0</td>\n",
       "      <td>0.0</td>\n",
       "      <td>1.0</td>\n",
       "      <td>0.0</td>\n",
       "      <td>1.0</td>\n",
       "      <td>0.0</td>\n",
       "      <td>1.0</td>\n",
       "      <td>1.0</td>\n",
       "      <td>...</td>\n",
       "      <td>4.0</td>\n",
       "      <td>2.0</td>\n",
       "      <td>4.0</td>\n",
       "      <td>2</td>\n",
       "      <td>1</td>\n",
       "      <td>1</td>\n",
       "      <td>2</td>\n",
       "      <td>0.0</td>\n",
       "      <td>0.0</td>\n",
       "      <td>0</td>\n",
       "    </tr>\n",
       "    <tr>\n",
       "      <th>2</th>\n",
       "      <td>2</td>\n",
       "      <td>1.0</td>\n",
       "      <td>1.0</td>\n",
       "      <td>0.0</td>\n",
       "      <td>1.0</td>\n",
       "      <td>0.0</td>\n",
       "      <td>0.0</td>\n",
       "      <td>0.0</td>\n",
       "      <td>0.0</td>\n",
       "      <td>0.0</td>\n",
       "      <td>...</td>\n",
       "      <td>4.0</td>\n",
       "      <td>1.0</td>\n",
       "      <td>2.0</td>\n",
       "      <td>1</td>\n",
       "      <td>1</td>\n",
       "      <td>1</td>\n",
       "      <td>2</td>\n",
       "      <td>2.0</td>\n",
       "      <td>0.0</td>\n",
       "      <td>0</td>\n",
       "    </tr>\n",
       "    <tr>\n",
       "      <th>3</th>\n",
       "      <td>3</td>\n",
       "      <td>1.0</td>\n",
       "      <td>1.0</td>\n",
       "      <td>0.0</td>\n",
       "      <td>1.0</td>\n",
       "      <td>0.0</td>\n",
       "      <td>1.0</td>\n",
       "      <td>1.0</td>\n",
       "      <td>0.0</td>\n",
       "      <td>0.0</td>\n",
       "      <td>...</td>\n",
       "      <td>5.0</td>\n",
       "      <td>4.0</td>\n",
       "      <td>1.0</td>\n",
       "      <td>5</td>\n",
       "      <td>1</td>\n",
       "      <td>0</td>\n",
       "      <td>3</td>\n",
       "      <td>0.0</td>\n",
       "      <td>0.0</td>\n",
       "      <td>0</td>\n",
       "    </tr>\n",
       "    <tr>\n",
       "      <th>4</th>\n",
       "      <td>4</td>\n",
       "      <td>2.0</td>\n",
       "      <td>1.0</td>\n",
       "      <td>0.0</td>\n",
       "      <td>1.0</td>\n",
       "      <td>0.0</td>\n",
       "      <td>1.0</td>\n",
       "      <td>1.0</td>\n",
       "      <td>0.0</td>\n",
       "      <td>1.0</td>\n",
       "      <td>...</td>\n",
       "      <td>3.0</td>\n",
       "      <td>1.0</td>\n",
       "      <td>4.0</td>\n",
       "      <td>3</td>\n",
       "      <td>1</td>\n",
       "      <td>0</td>\n",
       "      <td>2</td>\n",
       "      <td>1.0</td>\n",
       "      <td>0.0</td>\n",
       "      <td>0</td>\n",
       "    </tr>\n",
       "    <tr>\n",
       "      <th>5</th>\n",
       "      <td>5</td>\n",
       "      <td>3.0</td>\n",
       "      <td>1.0</td>\n",
       "      <td>0.0</td>\n",
       "      <td>1.0</td>\n",
       "      <td>0.0</td>\n",
       "      <td>1.0</td>\n",
       "      <td>0.0</td>\n",
       "      <td>0.0</td>\n",
       "      <td>1.0</td>\n",
       "      <td>...</td>\n",
       "      <td>5.0</td>\n",
       "      <td>4.0</td>\n",
       "      <td>4.0</td>\n",
       "      <td>5</td>\n",
       "      <td>1</td>\n",
       "      <td>1</td>\n",
       "      <td>3</td>\n",
       "      <td>2.0</td>\n",
       "      <td>3.0</td>\n",
       "      <td>0</td>\n",
       "    </tr>\n",
       "    <tr>\n",
       "      <th>6</th>\n",
       "      <td>6</td>\n",
       "      <td>0.0</td>\n",
       "      <td>0.0</td>\n",
       "      <td>0.0</td>\n",
       "      <td>0.0</td>\n",
       "      <td>0.0</td>\n",
       "      <td>0.0</td>\n",
       "      <td>0.0</td>\n",
       "      <td>0.0</td>\n",
       "      <td>0.0</td>\n",
       "      <td>...</td>\n",
       "      <td>4.0</td>\n",
       "      <td>2.0</td>\n",
       "      <td>1.0</td>\n",
       "      <td>4</td>\n",
       "      <td>1</td>\n",
       "      <td>1</td>\n",
       "      <td>2</td>\n",
       "      <td>0.0</td>\n",
       "      <td>0.0</td>\n",
       "      <td>0</td>\n",
       "    </tr>\n",
       "    <tr>\n",
       "      <th>7</th>\n",
       "      <td>7</td>\n",
       "      <td>1.0</td>\n",
       "      <td>0.0</td>\n",
       "      <td>0.0</td>\n",
       "      <td>1.0</td>\n",
       "      <td>0.0</td>\n",
       "      <td>1.0</td>\n",
       "      <td>0.0</td>\n",
       "      <td>0.0</td>\n",
       "      <td>1.0</td>\n",
       "      <td>...</td>\n",
       "      <td>4.0</td>\n",
       "      <td>2.0</td>\n",
       "      <td>1.0</td>\n",
       "      <td>3</td>\n",
       "      <td>1</td>\n",
       "      <td>0</td>\n",
       "      <td>1</td>\n",
       "      <td>2.0</td>\n",
       "      <td>0.0</td>\n",
       "      <td>1</td>\n",
       "    </tr>\n",
       "    <tr>\n",
       "      <th>8</th>\n",
       "      <td>8</td>\n",
       "      <td>0.0</td>\n",
       "      <td>2.0</td>\n",
       "      <td>0.0</td>\n",
       "      <td>1.0</td>\n",
       "      <td>0.0</td>\n",
       "      <td>1.0</td>\n",
       "      <td>1.0</td>\n",
       "      <td>1.0</td>\n",
       "      <td>1.0</td>\n",
       "      <td>...</td>\n",
       "      <td>4.0</td>\n",
       "      <td>2.0</td>\n",
       "      <td>1.0</td>\n",
       "      <td>3</td>\n",
       "      <td>1</td>\n",
       "      <td>1</td>\n",
       "      <td>2</td>\n",
       "      <td>1.0</td>\n",
       "      <td>0.0</td>\n",
       "      <td>0</td>\n",
       "    </tr>\n",
       "    <tr>\n",
       "      <th>9</th>\n",
       "      <td>9</td>\n",
       "      <td>2.0</td>\n",
       "      <td>1.0</td>\n",
       "      <td>0.0</td>\n",
       "      <td>1.0</td>\n",
       "      <td>0.0</td>\n",
       "      <td>0.0</td>\n",
       "      <td>1.0</td>\n",
       "      <td>0.0</td>\n",
       "      <td>1.0</td>\n",
       "      <td>...</td>\n",
       "      <td>4.0</td>\n",
       "      <td>2.0</td>\n",
       "      <td>2.0</td>\n",
       "      <td>4</td>\n",
       "      <td>1</td>\n",
       "      <td>1</td>\n",
       "      <td>2</td>\n",
       "      <td>0.0</td>\n",
       "      <td>0.0</td>\n",
       "      <td>0</td>\n",
       "    </tr>\n",
       "  </tbody>\n",
       "</table>\n",
       "<p>10 rows × 23 columns</p>\n",
       "</div>"
      ],
      "text/plain": [
       "   unique_id  h1n1_worry  h1n1_awareness  antiviral_medication  \\\n",
       "0          0         1.0             0.0                   0.0   \n",
       "1          1         3.0             2.0                   0.0   \n",
       "2          2         1.0             1.0                   0.0   \n",
       "3          3         1.0             1.0                   0.0   \n",
       "4          4         2.0             1.0                   0.0   \n",
       "5          5         3.0             1.0                   0.0   \n",
       "6          6         0.0             0.0                   0.0   \n",
       "7          7         1.0             0.0                   0.0   \n",
       "8          8         0.0             2.0                   0.0   \n",
       "9          9         2.0             1.0                   0.0   \n",
       "\n",
       "   contact_avoidance  bought_face_mask  wash_hands_frequently  \\\n",
       "0                0.0               0.0                    0.0   \n",
       "1                1.0               0.0                    1.0   \n",
       "2                1.0               0.0                    0.0   \n",
       "3                1.0               0.0                    1.0   \n",
       "4                1.0               0.0                    1.0   \n",
       "5                1.0               0.0                    1.0   \n",
       "6                0.0               0.0                    0.0   \n",
       "7                1.0               0.0                    1.0   \n",
       "8                1.0               0.0                    1.0   \n",
       "9                1.0               0.0                    0.0   \n",
       "\n",
       "   avoid_large_gatherings  reduced_outside_home_cont  avoid_touch_face  ...  \\\n",
       "0                     0.0                        1.0               1.0  ...   \n",
       "1                     0.0                        1.0               1.0  ...   \n",
       "2                     0.0                        0.0               0.0  ...   \n",
       "3                     1.0                        0.0               0.0  ...   \n",
       "4                     1.0                        0.0               1.0  ...   \n",
       "5                     0.0                        0.0               1.0  ...   \n",
       "6                     0.0                        0.0               0.0  ...   \n",
       "7                     0.0                        0.0               1.0  ...   \n",
       "8                     1.0                        1.0               1.0  ...   \n",
       "9                     1.0                        0.0               1.0  ...   \n",
       "\n",
       "   is_seas_vacc_effective  is_seas_risky  sick_from_seas_vacc  age_bracket  \\\n",
       "0                     2.0            1.0                  2.0            4   \n",
       "1                     4.0            2.0                  4.0            2   \n",
       "2                     4.0            1.0                  2.0            1   \n",
       "3                     5.0            4.0                  1.0            5   \n",
       "4                     3.0            1.0                  4.0            3   \n",
       "5                     5.0            4.0                  4.0            5   \n",
       "6                     4.0            2.0                  1.0            4   \n",
       "7                     4.0            2.0                  1.0            3   \n",
       "8                     4.0            2.0                  1.0            3   \n",
       "9                     4.0            2.0                  2.0            4   \n",
       "\n",
       "   race  sex  census_msa  no_of_adults  no_of_children  h1n1_vaccine  \n",
       "0     1    0           1           0.0             0.0             0  \n",
       "1     1    1           2           0.0             0.0             0  \n",
       "2     1    1           2           2.0             0.0             0  \n",
       "3     1    0           3           0.0             0.0             0  \n",
       "4     1    0           2           1.0             0.0             0  \n",
       "5     1    1           3           2.0             3.0             0  \n",
       "6     1    1           2           0.0             0.0             0  \n",
       "7     1    0           1           2.0             0.0             1  \n",
       "8     1    1           2           1.0             0.0             0  \n",
       "9     1    1           2           0.0             0.0             0  \n",
       "\n",
       "[10 rows x 23 columns]"
      ]
     },
     "execution_count": 106,
     "metadata": {},
     "output_type": "execute_result"
    }
   ],
   "source": [
    "### In this dataset we have the dependant variable being 'yes' or 'no', lets convert it to 1 or 0\n",
    "clean_up_categoricals = {'age_bracket':{'18 - 34 Years':1, '35 - 44 Years':2, '45 - 54 Years':3, '55 - 64 Years':4,\n",
    "                                       '65+ Years':5},\n",
    "                         'race' :{\"White\":1, \"Black\":2,\"Hispanic\":3,\"Other or Multiple\":4},\n",
    "                        'sex':{'Female':0,'Male':1},\n",
    "                        'census_msa':{'Non-MSA':1,'MSA, Not Principle  City':2,'MSA, Principle City':3}}\n",
    "data.replace(clean_up_categoricals, inplace=True)\n",
    "data.head(10)"
   ]
  },
  {
   "cell_type": "code",
   "execution_count": 107,
   "metadata": {
    "ExecuteTime": {
     "end_time": "2021-07-27T04:46:53.680323Z",
     "start_time": "2021-07-27T04:46:53.667080Z"
    }
   },
   "outputs": [],
   "source": [
    "#### Extract Y & X from Data\n",
    "y = data['h1n1_vaccine'].values\n",
    "X = data\n",
    "X = X.drop(['unique_id','h1n1_vaccine'],1)\n",
    "#### Extract Column Names\n",
    "names = X.columns"
   ]
  },
  {
   "cell_type": "code",
   "execution_count": 108,
   "metadata": {
    "ExecuteTime": {
     "end_time": "2021-07-27T04:46:53.728081Z",
     "start_time": "2021-07-27T04:46:53.682489Z"
    }
   },
   "outputs": [],
   "source": [
    "#### Feature Scaling - Lets scale the Features to ensure they are all in the same range\n",
    "# Feature Scaling\n",
    "\n",
    "from sklearn.preprocessing import StandardScaler\n",
    "sc_X = StandardScaler()\n",
    "X_train = sc_X.fit_transform(X)\n"
   ]
  },
  {
   "cell_type": "code",
   "execution_count": 112,
   "metadata": {
    "ExecuteTime": {
     "end_time": "2021-07-27T04:49:41.161507Z",
     "start_time": "2021-07-27T04:49:39.230825Z"
    }
   },
   "outputs": [
    {
     "name": "stderr",
     "output_type": "stream",
     "text": [
      "C:\\Users\\praca\\anaconda3\\lib\\site-packages\\sklearn\\utils\\validation.py:67: FutureWarning: Pass n_features_to_select=5 as keyword args. From version 0.25 passing these as positional arguments will result in an error\n",
      "  warnings.warn(\"Pass {} as keyword args. From version 0.25 \"\n"
     ]
    },
    {
     "name": "stdout",
     "output_type": "stream",
     "text": [
      "Num Features: 5\n",
      "Selected Features: [False  True False False  True False  True False False  True  True False\n",
      " False False False False False False False False False]\n",
      "Feature Ranking: [ 5  1  3 13  1 12  1  9  8  1  1 14 10  2  6  4 17  7 15 11 16]\n",
      "h1n1_awareness 1\n",
      "bought_face_mask 1\n",
      "avoid_large_gatherings 1\n",
      "is_h1n1_vacc_effective 1\n",
      "is_h1n1_risky 1\n"
     ]
    }
   ],
   "source": [
    "#### Run RFE to find the top 5 features to use\n",
    "from sklearn.feature_selection import RFE\n",
    "model = LogisticRegression(solver='lbfgs')\n",
    "rfe = RFE(model, 5)\n",
    "fit = rfe.fit(X, y)\n",
    "print(\"Num Features: %d\" % fit.n_features_)\n",
    "print(\"Selected Features: %s\" % fit.support_)\n",
    "print(\"Feature Ranking: %s\" % fit.ranking_)\n",
    "Selcted_features = fit.support_\n",
    "RANKS = fit.ranking_\n",
    "Selected = []\n",
    "for i,v in enumerate(Selcted_features):\n",
    "    if(v==True):\n",
    "        print(names[i], RANKS[i])\n",
    "        Selected.append(names[i])"
   ]
  },
  {
   "cell_type": "code",
   "execution_count": 113,
   "metadata": {
    "ExecuteTime": {
     "end_time": "2021-07-27T04:50:17.744935Z",
     "start_time": "2021-07-27T04:50:17.705125Z"
    }
   },
   "outputs": [],
   "source": [
    "#### Extract Y & X from Data\n",
    "Y = data['h1n1_vaccine'].values\n",
    "X = data[Selected]\n",
    "\n",
    "#### Split X & Y into train and test\n",
    "from sklearn.model_selection import train_test_split\n",
    "X_train, X_test, y_train, y_test = train_test_split(X, Y, test_size = 0.2, random_state = 0)"
   ]
  },
  {
   "cell_type": "code",
   "execution_count": 114,
   "metadata": {
    "ExecuteTime": {
     "end_time": "2021-07-27T04:50:19.729216Z",
     "start_time": "2021-07-27T04:50:19.708548Z"
    }
   },
   "outputs": [],
   "source": [
    "#### Feature Scaling - Lets scale the Features to ensure they are all in the same range\n",
    "# Feature Scaling\n",
    "\n",
    "from sklearn.preprocessing import StandardScaler\n",
    "sc_X = StandardScaler()\n",
    "X_train = sc_X.fit_transform(X_train)\n",
    "X_test = sc_X.transform(X_test)"
   ]
  },
  {
   "cell_type": "code",
   "execution_count": 115,
   "metadata": {
    "ExecuteTime": {
     "end_time": "2021-07-27T04:50:21.747655Z",
     "start_time": "2021-07-27T04:50:21.735513Z"
    }
   },
   "outputs": [],
   "source": [
    "# Fitting Logistic Regression Classifier to the Training set\n",
    "from sklearn.linear_model import LogisticRegression\n",
    "classifier = LogisticRegression(random_state = 0)"
   ]
  },
  {
   "cell_type": "code",
   "execution_count": 116,
   "metadata": {
    "ExecuteTime": {
     "end_time": "2021-07-27T04:50:23.491553Z",
     "start_time": "2021-07-27T04:50:23.456363Z"
    }
   },
   "outputs": [
    {
     "data": {
      "text/plain": [
       "LogisticRegression(random_state=0)"
      ]
     },
     "execution_count": 116,
     "metadata": {},
     "output_type": "execute_result"
    }
   ],
   "source": [
    "#### Fit the classifier to the training set\n",
    "classifier.fit(X_train, y_train)"
   ]
  },
  {
   "cell_type": "code",
   "execution_count": 117,
   "metadata": {
    "ExecuteTime": {
     "end_time": "2021-07-27T04:50:25.112319Z",
     "start_time": "2021-07-27T04:50:25.097723Z"
    }
   },
   "outputs": [],
   "source": [
    "### Predict the results\n",
    "y_pred = classifier.predict(X_test)"
   ]
  },
  {
   "cell_type": "code",
   "execution_count": 118,
   "metadata": {
    "ExecuteTime": {
     "end_time": "2021-07-27T04:50:27.178804Z",
     "start_time": "2021-07-27T04:50:27.166406Z"
    }
   },
   "outputs": [],
   "source": [
    "### Predict the result for a custom threshold\n",
    "THRESHOLD = 0.18\n",
    "y_pred1 = np.where(classifier.predict_proba(X_test)[:,1] > THRESHOLD, 1, 0)"
   ]
  },
  {
   "cell_type": "code",
   "execution_count": 119,
   "metadata": {
    "ExecuteTime": {
     "end_time": "2021-07-27T04:50:29.127958Z",
     "start_time": "2021-07-27T04:50:29.099972Z"
    }
   },
   "outputs": [
    {
     "name": "stdout",
     "output_type": "stream",
     "text": [
      "Pr 0 Pr 1\n",
      "3742 239\n",
      "756 311\n",
      "###################-Custom Threshold\n",
      "Pr 0 Pr 1\n",
      "2505 1476\n",
      "251 816\n"
     ]
    }
   ],
   "source": [
    "### Lets create a Confusion Matrix to See how valid our accuracy score is\n",
    "from sklearn.metrics import confusion_matrix\n",
    "cm = confusion_matrix(y_test, y_pred)\n",
    "labels =['Pr 0', 'Pr 1']\n",
    "print(*labels)\n",
    "for line in cm:\n",
    "    print(*line)\n",
    "\n",
    "print(\"###################-Custom Threshold\")\n",
    "cm1 = confusion_matrix(y_test, y_pred1)\n",
    "labels =['Pr 0', 'Pr 1']\n",
    "print(*labels)\n",
    "for line in cm1:\n",
    "    print(*line)"
   ]
  },
  {
   "cell_type": "code",
   "execution_count": 120,
   "metadata": {
    "ExecuteTime": {
     "end_time": "2021-07-27T04:50:44.943406Z",
     "start_time": "2021-07-27T04:50:44.909711Z"
    }
   },
   "outputs": [
    {
     "name": "stdout",
     "output_type": "stream",
     "text": [
      "              precision    recall  f1-score   support\n",
      "\n",
      "           0       0.83      0.94      0.88      3981\n",
      "           1       0.57      0.29      0.38      1067\n",
      "\n",
      "    accuracy                           0.80      5048\n",
      "   macro avg       0.70      0.62      0.63      5048\n",
      "weighted avg       0.78      0.80      0.78      5048\n",
      "\n",
      "###################-Custom Threshold\n",
      "              precision    recall  f1-score   support\n",
      "\n",
      "           0       0.91      0.63      0.74      3981\n",
      "           1       0.36      0.76      0.49      1067\n",
      "\n",
      "    accuracy                           0.66      5048\n",
      "   macro avg       0.63      0.70      0.61      5048\n",
      "weighted avg       0.79      0.66      0.69      5048\n",
      "\n"
     ]
    }
   ],
   "source": [
    "#### Lets take a look at the classification report\n",
    "from sklearn.metrics import classification_report\n",
    "print(classification_report(y_test, y_pred))\n",
    "print(\"###################-Custom Threshold\")\n",
    "print(classification_report(y_test, y_pred1))\n"
   ]
  },
  {
   "cell_type": "code",
   "execution_count": 98,
   "metadata": {
    "ExecuteTime": {
     "end_time": "2021-07-24T05:44:46.713003Z",
     "start_time": "2021-07-24T05:44:46.674528Z"
    }
   },
   "outputs": [
    {
     "name": "stdout",
     "output_type": "stream",
     "text": [
      "              precision    recall  f1-score   support\n",
      "\n",
      "           0       0.83      0.95      0.88      3981\n",
      "           1       0.58      0.27      0.37      1067\n",
      "\n",
      "    accuracy                           0.80      5048\n",
      "   macro avg       0.70      0.61      0.63      5048\n",
      "weighted avg       0.78      0.80      0.78      5048\n",
      "\n",
      "###################-Custom Threshold\n",
      "              precision    recall  f1-score   support\n",
      "\n",
      "           0       0.91      0.65      0.76      3981\n",
      "           1       0.37      0.77      0.50      1067\n",
      "\n",
      "    accuracy                           0.67      5048\n",
      "   macro avg       0.64      0.71      0.63      5048\n",
      "weighted avg       0.80      0.67      0.70      5048\n",
      "\n"
     ]
    }
   ],
   "source": [
    "#### Lets take a look at the classification report\n",
    "from sklearn.metrics import classification_report\n",
    "print(classification_report(y_test, y_pred))\n",
    "print(\"###################-Custom Threshold\")\n",
    "print(classification_report(y_test, y_pred1))\n"
   ]
  }
 ],
 "metadata": {
  "kernelspec": {
   "display_name": "Python 3",
   "language": "python",
   "name": "python3"
  },
  "language_info": {
   "codemirror_mode": {
    "name": "ipython",
    "version": 3
   },
   "file_extension": ".py",
   "mimetype": "text/x-python",
   "name": "python",
   "nbconvert_exporter": "python",
   "pygments_lexer": "ipython3",
   "version": "3.8.5"
  }
 },
 "nbformat": 4,
 "nbformat_minor": 4
}
